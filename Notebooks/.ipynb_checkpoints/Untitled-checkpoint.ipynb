{
 "cells": [
  {
   "cell_type": "code",
   "execution_count": 364,
   "id": "adcb2289",
   "metadata": {},
   "outputs": [],
   "source": [
    "import pandas as pd\n",
    "import numpy as np\n",
    "from sklearn import pipeline,preprocessing,metrics,model_selection,ensemble\n",
    "from sklearn_pandas import DataFrameMapper"
   ]
  },
  {
   "cell_type": "code",
   "execution_count": 365,
   "id": "2cce9d53",
   "metadata": {},
   "outputs": [],
   "source": [
    "data=pd.read_csv('./../media/excel/export_data.csv')"
   ]
  },
  {
   "cell_type": "code",
   "execution_count": 366,
   "id": "d62a2d60",
   "metadata": {},
   "outputs": [
    {
     "data": {
      "text/html": [
       "<div>\n",
       "<style scoped>\n",
       "    .dataframe tbody tr th:only-of-type {\n",
       "        vertical-align: middle;\n",
       "    }\n",
       "\n",
       "    .dataframe tbody tr th {\n",
       "        vertical-align: top;\n",
       "    }\n",
       "\n",
       "    .dataframe thead th {\n",
       "        text-align: right;\n",
       "    }\n",
       "</style>\n",
       "<table border=\"1\" class=\"dataframe\">\n",
       "  <thead>\n",
       "    <tr style=\"text-align: right;\">\n",
       "      <th></th>\n",
       "      <th>Target</th>\n",
       "      <th>e-learning_process</th>\n",
       "      <th>UEY</th>\n",
       "      <th>Information_Technology</th>\n",
       "      <th>Accounting</th>\n",
       "      <th>Law</th>\n",
       "      <th>Engineering</th>\n",
       "      <th>English</th>\n",
       "      <th>Graphic_Design</th>\n",
       "      <th>Medicine</th>\n",
       "      <th>...</th>\n",
       "      <th>Languages</th>\n",
       "      <th>Programming</th>\n",
       "      <th>mathematics</th>\n",
       "      <th>data_analysis</th>\n",
       "      <th>physics</th>\n",
       "      <th>photos_edit</th>\n",
       "      <th>machine_learning</th>\n",
       "      <th>Lawer</th>\n",
       "      <th>architectural_drawing</th>\n",
       "      <th>statistic_analysis</th>\n",
       "    </tr>\n",
       "  </thead>\n",
       "  <tbody>\n",
       "    <tr>\n",
       "      <th>0</th>\n",
       "      <td>100</td>\n",
       "      <td>1</td>\n",
       "      <td>2019</td>\n",
       "      <td>0</td>\n",
       "      <td>0</td>\n",
       "      <td>1</td>\n",
       "      <td>0</td>\n",
       "      <td>0</td>\n",
       "      <td>0</td>\n",
       "      <td>0</td>\n",
       "      <td>...</td>\n",
       "      <td>0</td>\n",
       "      <td>0</td>\n",
       "      <td>0</td>\n",
       "      <td>0</td>\n",
       "      <td>0</td>\n",
       "      <td>0</td>\n",
       "      <td>0</td>\n",
       "      <td>1</td>\n",
       "      <td>0</td>\n",
       "      <td>0</td>\n",
       "    </tr>\n",
       "    <tr>\n",
       "      <th>1</th>\n",
       "      <td>100</td>\n",
       "      <td>1</td>\n",
       "      <td>2018</td>\n",
       "      <td>1</td>\n",
       "      <td>0</td>\n",
       "      <td>0</td>\n",
       "      <td>0</td>\n",
       "      <td>0</td>\n",
       "      <td>0</td>\n",
       "      <td>0</td>\n",
       "      <td>...</td>\n",
       "      <td>1</td>\n",
       "      <td>1</td>\n",
       "      <td>0</td>\n",
       "      <td>0</td>\n",
       "      <td>0</td>\n",
       "      <td>0</td>\n",
       "      <td>1</td>\n",
       "      <td>0</td>\n",
       "      <td>0</td>\n",
       "      <td>0</td>\n",
       "    </tr>\n",
       "    <tr>\n",
       "      <th>2</th>\n",
       "      <td>200</td>\n",
       "      <td>1</td>\n",
       "      <td>2018</td>\n",
       "      <td>1</td>\n",
       "      <td>0</td>\n",
       "      <td>0</td>\n",
       "      <td>0</td>\n",
       "      <td>0</td>\n",
       "      <td>0</td>\n",
       "      <td>0</td>\n",
       "      <td>...</td>\n",
       "      <td>1</td>\n",
       "      <td>1</td>\n",
       "      <td>0</td>\n",
       "      <td>0</td>\n",
       "      <td>0</td>\n",
       "      <td>0</td>\n",
       "      <td>1</td>\n",
       "      <td>0</td>\n",
       "      <td>0</td>\n",
       "      <td>0</td>\n",
       "    </tr>\n",
       "    <tr>\n",
       "      <th>3</th>\n",
       "      <td>100</td>\n",
       "      <td>1</td>\n",
       "      <td>2018</td>\n",
       "      <td>1</td>\n",
       "      <td>0</td>\n",
       "      <td>0</td>\n",
       "      <td>0</td>\n",
       "      <td>0</td>\n",
       "      <td>0</td>\n",
       "      <td>0</td>\n",
       "      <td>...</td>\n",
       "      <td>1</td>\n",
       "      <td>1</td>\n",
       "      <td>0</td>\n",
       "      <td>0</td>\n",
       "      <td>0</td>\n",
       "      <td>0</td>\n",
       "      <td>1</td>\n",
       "      <td>0</td>\n",
       "      <td>0</td>\n",
       "      <td>0</td>\n",
       "    </tr>\n",
       "    <tr>\n",
       "      <th>4</th>\n",
       "      <td>100</td>\n",
       "      <td>1</td>\n",
       "      <td>2018</td>\n",
       "      <td>1</td>\n",
       "      <td>0</td>\n",
       "      <td>0</td>\n",
       "      <td>0</td>\n",
       "      <td>0</td>\n",
       "      <td>0</td>\n",
       "      <td>0</td>\n",
       "      <td>...</td>\n",
       "      <td>1</td>\n",
       "      <td>1</td>\n",
       "      <td>0</td>\n",
       "      <td>0</td>\n",
       "      <td>0</td>\n",
       "      <td>0</td>\n",
       "      <td>1</td>\n",
       "      <td>0</td>\n",
       "      <td>0</td>\n",
       "      <td>0</td>\n",
       "    </tr>\n",
       "  </tbody>\n",
       "</table>\n",
       "<p>5 rows × 22 columns</p>\n",
       "</div>"
      ],
      "text/plain": [
       "   Target  e-learning_process   UEY  Information_Technology  Accounting  Law  \\\n",
       "0     100                   1  2019                       0           0    1   \n",
       "1     100                   1  2018                       1           0    0   \n",
       "2     200                   1  2018                       1           0    0   \n",
       "3     100                   1  2018                       1           0    0   \n",
       "4     100                   1  2018                       1           0    0   \n",
       "\n",
       "   Engineering  English  Graphic_Design  Medicine  ...  Languages  \\\n",
       "0            0        0               0         0  ...          0   \n",
       "1            0        0               0         0  ...          1   \n",
       "2            0        0               0         0  ...          1   \n",
       "3            0        0               0         0  ...          1   \n",
       "4            0        0               0         0  ...          1   \n",
       "\n",
       "   Programming  mathematics  data_analysis  physics  photos_edit  \\\n",
       "0            0            0              0        0            0   \n",
       "1            1            0              0        0            0   \n",
       "2            1            0              0        0            0   \n",
       "3            1            0              0        0            0   \n",
       "4            1            0              0        0            0   \n",
       "\n",
       "   machine_learning  Lawer  architectural_drawing  statistic_analysis  \n",
       "0                 0      1                      0                   0  \n",
       "1                 1      0                      0                   0  \n",
       "2                 1      0                      0                   0  \n",
       "3                 1      0                      0                   0  \n",
       "4                 1      0                      0                   0  \n",
       "\n",
       "[5 rows x 22 columns]"
      ]
     },
     "execution_count": 366,
     "metadata": {},
     "output_type": "execute_result"
    }
   ],
   "source": [
    "data.head()"
   ]
  },
  {
   "cell_type": "code",
   "execution_count": 367,
   "id": "4fec9e7e",
   "metadata": {
    "scrolled": false
   },
   "outputs": [
    {
     "data": {
      "text/plain": [
       "Target                    0\n",
       "e-learning_process        0\n",
       "UEY                       0\n",
       "Information_Technology    0\n",
       "Accounting                0\n",
       "Law                       0\n",
       "Engineering               0\n",
       "English                   0\n",
       "Graphic_Design            0\n",
       "Medicine                  0\n",
       "Media                     0\n",
       "The Scienes               0\n",
       "Languages                 0\n",
       "Programming               0\n",
       "mathematics               0\n",
       "data_analysis             0\n",
       "physics                   0\n",
       "photos_edit               0\n",
       "machine_learning          0\n",
       "Lawer                     0\n",
       "architectural_drawing     0\n",
       "statistic_analysis        0\n",
       "dtype: int64"
      ]
     },
     "execution_count": 367,
     "metadata": {},
     "output_type": "execute_result"
    }
   ],
   "source": [
    "data.isnull().sum()"
   ]
  },
  {
   "cell_type": "code",
   "execution_count": 368,
   "id": "eab7560b",
   "metadata": {},
   "outputs": [],
   "source": [
    "mapper = DataFrameMapper([\n",
    "                        (['e-learning_process','UEY','Information_Technology','Accounting','Law','Engineering','English','Graphic_Design','Medicine',\n",
    "\n",
    "'Media','The Scienes','Languages','Programming','mathematics','data_analysis','physics','photos_edit','machine_learning','Lawer','architectural_drawing','statistic_analysis'], preprocessing.OneHotEncoder())\n",
    "                        ])\n",
    "\n"
   ]
  },
  {
   "cell_type": "code",
   "execution_count": 369,
   "id": "5595e20e",
   "metadata": {},
   "outputs": [],
   "source": [
    "from sklearn.ensemble import RandomForestClassifier\n",
    "pipeline_obj = pipeline.Pipeline([\n",
    "    ('mapper',mapper),\n",
    "    (\"model\", ensemble.RandomForestClassifier())\n",
    "])"
   ]
  },
  {
   "cell_type": "code",
   "execution_count": 370,
   "id": "b9fb2c94",
   "metadata": {
    "scrolled": true
   },
   "outputs": [
    {
     "data": {
      "text/plain": [
       "Index(['Target', 'e-learning_process', 'UEY', 'Information_Technology',\n",
       "       'Accounting', 'Law', 'Engineering', 'English', 'Graphic_Design',\n",
       "       'Medicine', 'Media', 'The Scienes', 'Languages', 'Programming',\n",
       "       'mathematics', 'data_analysis', 'physics', 'photos_edit',\n",
       "       'machine_learning', 'Lawer', 'architectural_drawing',\n",
       "       'statistic_analysis'],\n",
       "      dtype='object')"
      ]
     },
     "execution_count": 370,
     "metadata": {},
     "output_type": "execute_result"
    }
   ],
   "source": [
    "data.columns"
   ]
  },
  {
   "cell_type": "code",
   "execution_count": 371,
   "id": "c27d23b7",
   "metadata": {},
   "outputs": [],
   "source": [
    "X=['e-learning_process','UEY','Information_Technology','Accounting','Law','Engineering','English','Graphic_Design','Medicine','Media','The Scienes','Languages','Programming','mathematics','data_analysis','physics','photos_edit','machine_learning','Lawer','architectural_drawing','statistic_analysis']\n",
    "Y=['Target']"
   ]
  },
  {
   "cell_type": "code",
   "execution_count": 372,
   "id": "7a8ddd3c",
   "metadata": {
    "scrolled": true
   },
   "outputs": [
    {
     "name": "stderr",
     "output_type": "stream",
     "text": [
      "C:\\Users\\loloh\\AppData\\Local\\Programs\\Python\\Python310\\lib\\site-packages\\sklearn\\utils\\deprecation.py:87: FutureWarning: Function get_feature_names is deprecated; get_feature_names is deprecated in 1.0 and will be removed in 1.2. Please use get_feature_names_out instead.\n",
      "  warnings.warn(msg, category=FutureWarning)\n",
      "C:\\Users\\loloh\\AppData\\Local\\Programs\\Python\\Python310\\lib\\site-packages\\sklearn\\pipeline.py:382: DataConversionWarning: A column-vector y was passed when a 1d array was expected. Please change the shape of y to (n_samples,), for example using ravel().\n",
      "  self._final_estimator.fit(Xt, y, **fit_params_last_step)\n"
     ]
    },
    {
     "data": {
      "text/html": [
       "<style>#sk-container-id-21 {color: black;background-color: white;}#sk-container-id-21 pre{padding: 0;}#sk-container-id-21 div.sk-toggleable {background-color: white;}#sk-container-id-21 label.sk-toggleable__label {cursor: pointer;display: block;width: 100%;margin-bottom: 0;padding: 0.3em;box-sizing: border-box;text-align: center;}#sk-container-id-21 label.sk-toggleable__label-arrow:before {content: \"▸\";float: left;margin-right: 0.25em;color: #696969;}#sk-container-id-21 label.sk-toggleable__label-arrow:hover:before {color: black;}#sk-container-id-21 div.sk-estimator:hover label.sk-toggleable__label-arrow:before {color: black;}#sk-container-id-21 div.sk-toggleable__content {max-height: 0;max-width: 0;overflow: hidden;text-align: left;background-color: #f0f8ff;}#sk-container-id-21 div.sk-toggleable__content pre {margin: 0.2em;color: black;border-radius: 0.25em;background-color: #f0f8ff;}#sk-container-id-21 input.sk-toggleable__control:checked~div.sk-toggleable__content {max-height: 200px;max-width: 100%;overflow: auto;}#sk-container-id-21 input.sk-toggleable__control:checked~label.sk-toggleable__label-arrow:before {content: \"▾\";}#sk-container-id-21 div.sk-estimator input.sk-toggleable__control:checked~label.sk-toggleable__label {background-color: #d4ebff;}#sk-container-id-21 div.sk-label input.sk-toggleable__control:checked~label.sk-toggleable__label {background-color: #d4ebff;}#sk-container-id-21 input.sk-hidden--visually {border: 0;clip: rect(1px 1px 1px 1px);clip: rect(1px, 1px, 1px, 1px);height: 1px;margin: -1px;overflow: hidden;padding: 0;position: absolute;width: 1px;}#sk-container-id-21 div.sk-estimator {font-family: monospace;background-color: #f0f8ff;border: 1px dotted black;border-radius: 0.25em;box-sizing: border-box;margin-bottom: 0.5em;}#sk-container-id-21 div.sk-estimator:hover {background-color: #d4ebff;}#sk-container-id-21 div.sk-parallel-item::after {content: \"\";width: 100%;border-bottom: 1px solid gray;flex-grow: 1;}#sk-container-id-21 div.sk-label:hover label.sk-toggleable__label {background-color: #d4ebff;}#sk-container-id-21 div.sk-serial::before {content: \"\";position: absolute;border-left: 1px solid gray;box-sizing: border-box;top: 0;bottom: 0;left: 50%;z-index: 0;}#sk-container-id-21 div.sk-serial {display: flex;flex-direction: column;align-items: center;background-color: white;padding-right: 0.2em;padding-left: 0.2em;position: relative;}#sk-container-id-21 div.sk-item {position: relative;z-index: 1;}#sk-container-id-21 div.sk-parallel {display: flex;align-items: stretch;justify-content: center;background-color: white;position: relative;}#sk-container-id-21 div.sk-item::before, #sk-container-id-21 div.sk-parallel-item::before {content: \"\";position: absolute;border-left: 1px solid gray;box-sizing: border-box;top: 0;bottom: 0;left: 50%;z-index: -1;}#sk-container-id-21 div.sk-parallel-item {display: flex;flex-direction: column;z-index: 1;position: relative;background-color: white;}#sk-container-id-21 div.sk-parallel-item:first-child::after {align-self: flex-end;width: 50%;}#sk-container-id-21 div.sk-parallel-item:last-child::after {align-self: flex-start;width: 50%;}#sk-container-id-21 div.sk-parallel-item:only-child::after {width: 0;}#sk-container-id-21 div.sk-dashed-wrapped {border: 1px dashed gray;margin: 0 0.4em 0.5em 0.4em;box-sizing: border-box;padding-bottom: 0.4em;background-color: white;}#sk-container-id-21 div.sk-label label {font-family: monospace;font-weight: bold;display: inline-block;line-height: 1.2em;}#sk-container-id-21 div.sk-label-container {text-align: center;}#sk-container-id-21 div.sk-container {/* jupyter's `normalize.less` sets `[hidden] { display: none; }` but bootstrap.min.css set `[hidden] { display: none !important; }` so we also need the `!important` here to be able to override the default hidden behavior on the sphinx rendered scikit-learn.org. See: https://github.com/scikit-learn/scikit-learn/issues/21755 */display: inline-block !important;position: relative;}#sk-container-id-21 div.sk-text-repr-fallback {display: none;}</style><div id=\"sk-container-id-21\" class=\"sk-top-container\"><div class=\"sk-text-repr-fallback\"><pre>Pipeline(steps=[(&#x27;mapper&#x27;,\n",
       "                 DataFrameMapper(drop_cols=[],\n",
       "                                 features=[([&#x27;e-learning_process&#x27;, &#x27;UEY&#x27;,\n",
       "                                             &#x27;Information_Technology&#x27;,\n",
       "                                             &#x27;Accounting&#x27;, &#x27;Law&#x27;, &#x27;Engineering&#x27;,\n",
       "                                             &#x27;English&#x27;, &#x27;Graphic_Design&#x27;,\n",
       "                                             &#x27;Medicine&#x27;, &#x27;Media&#x27;, &#x27;The Scienes&#x27;,\n",
       "                                             &#x27;Languages&#x27;, &#x27;Programming&#x27;,\n",
       "                                             &#x27;mathematics&#x27;, &#x27;data_analysis&#x27;,\n",
       "                                             &#x27;physics&#x27;, &#x27;photos_edit&#x27;,\n",
       "                                             &#x27;machine_learning&#x27;, &#x27;Lawer&#x27;,\n",
       "                                             &#x27;architectural_drawing&#x27;,\n",
       "                                             &#x27;statistic_analysis&#x27;],\n",
       "                                            OneHotEncoder())])),\n",
       "                (&#x27;model&#x27;, RandomForestClassifier())])</pre><b>In a Jupyter environment, please rerun this cell to show the HTML representation or trust the notebook. <br />On GitHub, the HTML representation is unable to render, please try loading this page with nbviewer.org.</b></div><div class=\"sk-container\" hidden><div class=\"sk-item sk-dashed-wrapped\"><div class=\"sk-label-container\"><div class=\"sk-label sk-toggleable\"><input class=\"sk-toggleable__control sk-hidden--visually\" id=\"sk-estimator-id-41\" type=\"checkbox\" ><label for=\"sk-estimator-id-41\" class=\"sk-toggleable__label sk-toggleable__label-arrow\">Pipeline</label><div class=\"sk-toggleable__content\"><pre>Pipeline(steps=[(&#x27;mapper&#x27;,\n",
       "                 DataFrameMapper(drop_cols=[],\n",
       "                                 features=[([&#x27;e-learning_process&#x27;, &#x27;UEY&#x27;,\n",
       "                                             &#x27;Information_Technology&#x27;,\n",
       "                                             &#x27;Accounting&#x27;, &#x27;Law&#x27;, &#x27;Engineering&#x27;,\n",
       "                                             &#x27;English&#x27;, &#x27;Graphic_Design&#x27;,\n",
       "                                             &#x27;Medicine&#x27;, &#x27;Media&#x27;, &#x27;The Scienes&#x27;,\n",
       "                                             &#x27;Languages&#x27;, &#x27;Programming&#x27;,\n",
       "                                             &#x27;mathematics&#x27;, &#x27;data_analysis&#x27;,\n",
       "                                             &#x27;physics&#x27;, &#x27;photos_edit&#x27;,\n",
       "                                             &#x27;machine_learning&#x27;, &#x27;Lawer&#x27;,\n",
       "                                             &#x27;architectural_drawing&#x27;,\n",
       "                                             &#x27;statistic_analysis&#x27;],\n",
       "                                            OneHotEncoder())])),\n",
       "                (&#x27;model&#x27;, RandomForestClassifier())])</pre></div></div></div><div class=\"sk-serial\"><div class=\"sk-item\"><div class=\"sk-estimator sk-toggleable\"><input class=\"sk-toggleable__control sk-hidden--visually\" id=\"sk-estimator-id-42\" type=\"checkbox\" ><label for=\"sk-estimator-id-42\" class=\"sk-toggleable__label sk-toggleable__label-arrow\">DataFrameMapper</label><div class=\"sk-toggleable__content\"><pre>DataFrameMapper(drop_cols=[],\n",
       "                features=[([&#x27;e-learning_process&#x27;, &#x27;UEY&#x27;,\n",
       "                            &#x27;Information_Technology&#x27;, &#x27;Accounting&#x27;, &#x27;Law&#x27;,\n",
       "                            &#x27;Engineering&#x27;, &#x27;English&#x27;, &#x27;Graphic_Design&#x27;,\n",
       "                            &#x27;Medicine&#x27;, &#x27;Media&#x27;, &#x27;The Scienes&#x27;, &#x27;Languages&#x27;,\n",
       "                            &#x27;Programming&#x27;, &#x27;mathematics&#x27;, &#x27;data_analysis&#x27;,\n",
       "                            &#x27;physics&#x27;, &#x27;photos_edit&#x27;, &#x27;machine_learning&#x27;,\n",
       "                            &#x27;Lawer&#x27;, &#x27;architectural_drawing&#x27;,\n",
       "                            &#x27;statistic_analysis&#x27;],\n",
       "                           OneHotEncoder())])</pre></div></div></div><div class=\"sk-item\"><div class=\"sk-estimator sk-toggleable\"><input class=\"sk-toggleable__control sk-hidden--visually\" id=\"sk-estimator-id-43\" type=\"checkbox\" ><label for=\"sk-estimator-id-43\" class=\"sk-toggleable__label sk-toggleable__label-arrow\">RandomForestClassifier</label><div class=\"sk-toggleable__content\"><pre>RandomForestClassifier()</pre></div></div></div></div></div></div></div>"
      ],
      "text/plain": [
       "Pipeline(steps=[('mapper',\n",
       "                 DataFrameMapper(drop_cols=[],\n",
       "                                 features=[(['e-learning_process', 'UEY',\n",
       "                                             'Information_Technology',\n",
       "                                             'Accounting', 'Law', 'Engineering',\n",
       "                                             'English', 'Graphic_Design',\n",
       "                                             'Medicine', 'Media', 'The Scienes',\n",
       "                                             'Languages', 'Programming',\n",
       "                                             'mathematics', 'data_analysis',\n",
       "                                             'physics', 'photos_edit',\n",
       "                                             'machine_learning', 'Lawer',\n",
       "                                             'architectural_drawing',\n",
       "                                             'statistic_analysis'],\n",
       "                                            OneHotEncoder())])),\n",
       "                ('model', RandomForestClassifier())])"
      ]
     },
     "execution_count": 372,
     "metadata": {},
     "output_type": "execute_result"
    }
   ],
   "source": [
    "pipeline_obj.fit(data[X],data[Y])"
   ]
  },
  {
   "cell_type": "code",
   "execution_count": 373,
   "id": "acb1e4f7",
   "metadata": {
    "scrolled": true
   },
   "outputs": [
    {
     "name": "stderr",
     "output_type": "stream",
     "text": [
      "C:\\Users\\loloh\\AppData\\Local\\Programs\\Python\\Python310\\lib\\site-packages\\sklearn\\utils\\deprecation.py:87: FutureWarning: Function get_feature_names is deprecated; get_feature_names is deprecated in 1.0 and will be removed in 1.2. Please use get_feature_names_out instead.\n",
      "  warnings.warn(msg, category=FutureWarning)\n"
     ]
    },
    {
     "data": {
      "text/plain": [
       "array([200, 100, 100, 100, 100, 100, 100, 100, 100, 100, 100, 100, 100,\n",
       "       100, 100, 100, 100, 100, 200, 400, 400, 200, 100, 100, 100, 100,\n",
       "       100, 100, 100, 200, 200, 200, 400, 200, 200, 200, 100, 100, 100,\n",
       "       100, 100, 100, 100, 100, 100, 100, 200, 200, 200, 200, 200, 200,\n",
       "       200, 300, 300, 200, 200, 200, 300, 200, 100, 100, 200, 200, 200,\n",
       "       200, 100, 200, 100, 100, 100, 100, 100, 100, 100, 200, 200, 200,\n",
       "       200, 100, 100, 100, 200, 200, 100, 100, 100, 200, 100, 200, 200,\n",
       "       100, 100, 100, 100, 100, 100, 100, 100, 100, 100, 100, 100, 100,\n",
       "       100, 100, 100, 100, 100, 100, 100, 100, 100, 100, 100, 100, 100,\n",
       "       100, 100, 200, 300, 300, 300, 300, 100, 100, 100, 100, 100, 100,\n",
       "       100, 100, 100, 100, 100, 100, 400, 400, 100, 200, 200, 200, 200,\n",
       "       400, 400, 400, 200, 100, 100, 100, 100, 100, 100, 200, 400, 200,\n",
       "       200, 100, 100, 200, 200, 200, 100, 200, 200, 200, 400, 200, 200,\n",
       "       200, 200, 200, 200, 100, 400, 200, 200, 200, 200, 200, 200, 200,\n",
       "       200, 200, 200, 200, 200, 200, 200, 200, 200, 200, 200, 200, 200,\n",
       "       200, 300, 300, 100, 100, 400, 200, 200, 200, 400, 400, 400, 200,\n",
       "       200, 200, 400, 400, 400, 200, 200, 200, 200, 200, 200, 200, 200,\n",
       "       200, 200, 200, 200, 200, 200, 100, 100, 100, 200, 200, 200, 200,\n",
       "       200, 200, 200, 200, 200, 200, 200, 200, 200, 200, 200, 200, 200,\n",
       "       200, 200, 200, 200, 200, 200, 200, 200, 200, 200, 200, 200, 200,\n",
       "       200, 200, 200, 200, 200, 200, 200, 200, 200, 200, 200, 200, 200,\n",
       "       200, 200, 200, 200, 300, 300, 100, 200, 200, 200, 200, 100, 100,\n",
       "       200, 200, 200, 200, 200, 200, 200, 200, 200, 200, 200, 100, 200,\n",
       "       200, 200, 200, 200, 200, 200, 200, 200, 200, 200, 200, 200, 100,\n",
       "       200, 200, 200, 200, 200, 200, 200, 100, 200, 200, 200, 200, 200,\n",
       "       200, 200, 100, 200, 200, 200, 200, 200, 200, 200, 200, 200, 200,\n",
       "       100, 200, 200, 200, 200, 200, 200, 200, 200, 200, 200, 200, 200,\n",
       "       200, 100, 200, 200, 200, 200, 200, 200, 200, 100, 200, 200, 200,\n",
       "       200, 200, 100, 200, 200, 200, 200, 200, 200, 200, 200, 200, 200,\n",
       "       200, 200, 200, 200, 200, 200, 200, 200, 200, 200, 200, 200, 200,\n",
       "       200, 200, 200, 200, 200, 200, 200, 200, 200, 200, 200, 200, 200,\n",
       "       200, 200, 200, 200, 200, 200, 200, 200, 300, 300, 100, 200, 200,\n",
       "       200, 200, 100, 100, 200, 200, 200, 200, 200, 200, 200, 200, 200,\n",
       "       200], dtype=int64)"
      ]
     },
     "execution_count": 373,
     "metadata": {},
     "output_type": "execute_result"
    }
   ],
   "source": [
    "pipeline_obj.predict(data[X])"
   ]
  },
  {
   "cell_type": "code",
   "execution_count": 374,
   "id": "9d93b64b",
   "metadata": {},
   "outputs": [],
   "source": [
    "import joblib"
   ]
  },
  {
   "cell_type": "code",
   "execution_count": 375,
   "id": "5990b103",
   "metadata": {},
   "outputs": [
    {
     "data": {
      "text/plain": [
       "['./../savedModels/model.joblib']"
      ]
     },
     "execution_count": 375,
     "metadata": {},
     "output_type": "execute_result"
    }
   ],
   "source": [
    "joblib.dump(pipeline_obj,'./../savedModels/model.joblib')"
   ]
  },
  {
   "cell_type": "code",
   "execution_count": 376,
   "id": "477b5f22",
   "metadata": {},
   "outputs": [],
   "source": [
    "modelReload=joblib.load('./../savedModels/model.joblib')"
   ]
  },
  {
   "cell_type": "code",
   "execution_count": 377,
   "id": "6573c53a",
   "metadata": {
    "scrolled": true
   },
   "outputs": [
    {
     "name": "stderr",
     "output_type": "stream",
     "text": [
      "C:\\Users\\loloh\\AppData\\Local\\Programs\\Python\\Python310\\lib\\site-packages\\sklearn\\utils\\deprecation.py:87: FutureWarning: Function get_feature_names is deprecated; get_feature_names is deprecated in 1.0 and will be removed in 1.2. Please use get_feature_names_out instead.\n",
      "  warnings.warn(msg, category=FutureWarning)\n"
     ]
    },
    {
     "data": {
      "text/plain": [
       "array([200, 100, 100, 100, 100, 100, 100, 100, 100, 100, 100, 100, 100,\n",
       "       100, 100, 100, 100, 100, 200, 400, 400, 200, 100, 100, 100, 100,\n",
       "       100, 100, 100, 200, 200, 200, 400, 200, 200, 200, 100, 100, 100,\n",
       "       100, 100, 100, 100, 100, 100, 100, 200, 200, 200, 200, 200, 200,\n",
       "       200, 300, 300, 200, 200, 200, 300, 200, 100, 100, 200, 200, 200,\n",
       "       200, 100, 200, 100, 100, 100, 100, 100, 100, 100, 200, 200, 200,\n",
       "       200, 100, 100, 100, 200, 200, 100, 100, 100, 200, 100, 200, 200,\n",
       "       100, 100, 100, 100, 100, 100, 100, 100, 100, 100, 100, 100, 100,\n",
       "       100, 100, 100, 100, 100, 100, 100, 100, 100, 100, 100, 100, 100,\n",
       "       100, 100, 200, 300, 300, 300, 300, 100, 100, 100, 100, 100, 100,\n",
       "       100, 100, 100, 100, 100, 100, 400, 400, 100, 200, 200, 200, 200,\n",
       "       400, 400, 400, 200, 100, 100, 100, 100, 100, 100, 200, 400, 200,\n",
       "       200, 100, 100, 200, 200, 200, 100, 200, 200, 200, 400, 200, 200,\n",
       "       200, 200, 200, 200, 100, 400, 200, 200, 200, 200, 200, 200, 200,\n",
       "       200, 200, 200, 200, 200, 200, 200, 200, 200, 200, 200, 200, 200,\n",
       "       200, 300, 300, 100, 100, 400, 200, 200, 200, 400, 400, 400, 200,\n",
       "       200, 200, 400, 400, 400, 200, 200, 200, 200, 200, 200, 200, 200,\n",
       "       200, 200, 200, 200, 200, 200, 100, 100, 100, 200, 200, 200, 200,\n",
       "       200, 200, 200, 200, 200, 200, 200, 200, 200, 200, 200, 200, 200,\n",
       "       200, 200, 200, 200, 200, 200, 200, 200, 200, 200, 200, 200, 200,\n",
       "       200, 200, 200, 200, 200, 200, 200, 200, 200, 200, 200, 200, 200,\n",
       "       200, 200, 200, 200, 300, 300, 100, 200, 200, 200, 200, 100, 100,\n",
       "       200, 200, 200, 200, 200, 200, 200, 200, 200, 200, 200, 100, 200,\n",
       "       200, 200, 200, 200, 200, 200, 200, 200, 200, 200, 200, 200, 100,\n",
       "       200, 200, 200, 200, 200, 200, 200, 100, 200, 200, 200, 200, 200,\n",
       "       200, 200, 100, 200, 200, 200, 200, 200, 200, 200, 200, 200, 200,\n",
       "       100, 200, 200, 200, 200, 200, 200, 200, 200, 200, 200, 200, 200,\n",
       "       200, 100, 200, 200, 200, 200, 200, 200, 200, 100, 200, 200, 200,\n",
       "       200, 200, 100, 200, 200, 200, 200, 200, 200, 200, 200, 200, 200,\n",
       "       200, 200, 200, 200, 200, 200, 200, 200, 200, 200, 200, 200, 200,\n",
       "       200, 200, 200, 200, 200, 200, 200, 200, 200, 200, 200, 200, 200,\n",
       "       200, 200, 200, 200, 200, 200, 200, 200, 300, 300, 100, 200, 200,\n",
       "       200, 200, 100, 100, 200, 200, 200, 200, 200, 200, 200, 200, 200,\n",
       "       200], dtype=int64)"
      ]
     },
     "execution_count": 377,
     "metadata": {},
     "output_type": "execute_result"
    }
   ],
   "source": [
    "modelReload.predict(data[X])"
   ]
  },
  {
   "cell_type": "code",
   "execution_count": 378,
   "id": "e343d493",
   "metadata": {},
   "outputs": [],
   "source": [
    "temp={}\n",
    "temp['e-learning_process']=1\n",
    "temp['UEY']=2019\n",
    "temp['Information_Technology']=0\n",
    "temp['Accounting']=1\n",
    "temp['Law']=0\n",
    "temp['Engineering']=0\n",
    "temp['English']=0\n",
    "temp['Graphic_Design']=0\n",
    "temp['Medicine']=0\n",
    "temp['Media']=0\n",
    "temp['The Scienes']=0\n",
    "temp['Languages']=1\n",
    "temp['Programming']=1\n",
    "temp['mathematics']=1\n",
    "temp['data_analysis']=0\n",
    "temp['physics']=1\n",
    "temp['photos_edit']=0\n",
    "temp['machine_learning']=0\n",
    "temp['Lawer']=0\n",
    "temp['architectural_drawing']=0\n",
    "temp['statistic_analysis']=0\n",
    "\n"
   ]
  },
  {
   "cell_type": "code",
   "execution_count": 379,
   "id": "c526c802",
   "metadata": {},
   "outputs": [],
   "source": [
    "testDtaa=pd.DataFrame({'X':temp}).transpose()"
   ]
  },
  {
   "cell_type": "code",
   "execution_count": 380,
   "id": "e4859426",
   "metadata": {
    "scrolled": true
   },
   "outputs": [
    {
     "data": {
      "text/html": [
       "<div>\n",
       "<style scoped>\n",
       "    .dataframe tbody tr th:only-of-type {\n",
       "        vertical-align: middle;\n",
       "    }\n",
       "\n",
       "    .dataframe tbody tr th {\n",
       "        vertical-align: top;\n",
       "    }\n",
       "\n",
       "    .dataframe thead th {\n",
       "        text-align: right;\n",
       "    }\n",
       "</style>\n",
       "<table border=\"1\" class=\"dataframe\">\n",
       "  <thead>\n",
       "    <tr style=\"text-align: right;\">\n",
       "      <th></th>\n",
       "      <th>Accounting</th>\n",
       "      <th>Engineering</th>\n",
       "      <th>English</th>\n",
       "      <th>Graphic_Design</th>\n",
       "      <th>Information_Technology</th>\n",
       "      <th>Languages</th>\n",
       "      <th>Law</th>\n",
       "      <th>Lawer</th>\n",
       "      <th>Media</th>\n",
       "      <th>Medicine</th>\n",
       "      <th>...</th>\n",
       "      <th>The Scienes</th>\n",
       "      <th>UEY</th>\n",
       "      <th>architectural_drawing</th>\n",
       "      <th>data_analysis</th>\n",
       "      <th>e-learning_process</th>\n",
       "      <th>machine_learning</th>\n",
       "      <th>mathematics</th>\n",
       "      <th>photos_edit</th>\n",
       "      <th>physics</th>\n",
       "      <th>statistic_analysis</th>\n",
       "    </tr>\n",
       "  </thead>\n",
       "  <tbody>\n",
       "    <tr>\n",
       "      <th>X</th>\n",
       "      <td>1</td>\n",
       "      <td>0</td>\n",
       "      <td>0</td>\n",
       "      <td>0</td>\n",
       "      <td>0</td>\n",
       "      <td>1</td>\n",
       "      <td>0</td>\n",
       "      <td>0</td>\n",
       "      <td>0</td>\n",
       "      <td>0</td>\n",
       "      <td>...</td>\n",
       "      <td>0</td>\n",
       "      <td>2019</td>\n",
       "      <td>0</td>\n",
       "      <td>0</td>\n",
       "      <td>1</td>\n",
       "      <td>0</td>\n",
       "      <td>1</td>\n",
       "      <td>0</td>\n",
       "      <td>1</td>\n",
       "      <td>0</td>\n",
       "    </tr>\n",
       "  </tbody>\n",
       "</table>\n",
       "<p>1 rows × 21 columns</p>\n",
       "</div>"
      ],
      "text/plain": [
       "   Accounting  Engineering  English  Graphic_Design  Information_Technology  \\\n",
       "X           1            0        0               0                       0   \n",
       "\n",
       "   Languages  Law  Lawer  Media  Medicine  ...  The Scienes   UEY  \\\n",
       "X          1    0      0      0         0  ...            0  2019   \n",
       "\n",
       "   architectural_drawing  data_analysis  e-learning_process  machine_learning  \\\n",
       "X                      0              0                   1                 0   \n",
       "\n",
       "   mathematics  photos_edit  physics  statistic_analysis  \n",
       "X            1            0        1                   0  \n",
       "\n",
       "[1 rows x 21 columns]"
      ]
     },
     "execution_count": 380,
     "metadata": {},
     "output_type": "execute_result"
    }
   ],
   "source": [
    "testDtaa"
   ]
  },
  {
   "cell_type": "code",
   "execution_count": 381,
   "id": "abd81d9d",
   "metadata": {
    "scrolled": true
   },
   "outputs": [
    {
     "name": "stderr",
     "output_type": "stream",
     "text": [
      "C:\\Users\\loloh\\AppData\\Local\\Programs\\Python\\Python310\\lib\\site-packages\\sklearn\\utils\\deprecation.py:87: FutureWarning: Function get_feature_names is deprecated; get_feature_names is deprecated in 1.0 and will be removed in 1.2. Please use get_feature_names_out instead.\n",
      "  warnings.warn(msg, category=FutureWarning)\n"
     ]
    },
    {
     "data": {
      "text/plain": [
       "200"
      ]
     },
     "execution_count": 381,
     "metadata": {},
     "output_type": "execute_result"
    }
   ],
   "source": [
    "modelReload.predict(testDtaa)[0]"
   ]
  }
 ],
 "metadata": {
  "kernelspec": {
   "display_name": "Python 3 (ipykernel)",
   "language": "python",
   "name": "python3"
  },
  "language_info": {
   "codemirror_mode": {
    "name": "ipython",
    "version": 3
   },
   "file_extension": ".py",
   "mimetype": "text/x-python",
   "name": "python",
   "nbconvert_exporter": "python",
   "pygments_lexer": "ipython3",
   "version": "3.10.4"
  }
 },
 "nbformat": 4,
 "nbformat_minor": 5
}
